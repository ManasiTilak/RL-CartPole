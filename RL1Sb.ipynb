{
 "cells": [
  {
   "cell_type": "code",
   "execution_count": 1,
   "id": "3b0a07a9",
   "metadata": {},
   "outputs": [
    {
     "name": "stdout",
     "output_type": "stream",
     "text": [
      "Requirement already satisfied: stable-baselines3[extra] in c:\\users\\salil\\pythonp\\rl1\\venv\\lib\\site-packages (1.6.2)\n",
      "Requirement already satisfied: torch>=1.11 in c:\\users\\salil\\pythonp\\rl1\\venv\\lib\\site-packages (from stable-baselines3[extra]) (1.13.0)\n",
      "Requirement already satisfied: numpy in c:\\users\\salil\\pythonp\\rl1\\venv\\lib\\site-packages (from stable-baselines3[extra]) (1.23.4)\n",
      "Requirement already satisfied: cloudpickle in c:\\users\\salil\\pythonp\\rl1\\venv\\lib\\site-packages (from stable-baselines3[extra]) (2.2.0)\n",
      "Requirement already satisfied: pandas in c:\\users\\salil\\pythonp\\rl1\\venv\\lib\\site-packages (from stable-baselines3[extra]) (1.5.1)\n",
      "Requirement already satisfied: gym==0.21 in c:\\users\\salil\\pythonp\\rl1\\venv\\lib\\site-packages (from stable-baselines3[extra]) (0.21.0)\n",
      "Requirement already satisfied: matplotlib in c:\\users\\salil\\pythonp\\rl1\\venv\\lib\\site-packages (from stable-baselines3[extra]) (3.6.2)\n",
      "Requirement already satisfied: importlib-metadata~=4.13 in c:\\users\\salil\\pythonp\\rl1\\venv\\lib\\site-packages (from stable-baselines3[extra]) (4.13.0)\n",
      "Requirement already satisfied: pillow in c:\\users\\salil\\pythonp\\rl1\\venv\\lib\\site-packages (from stable-baselines3[extra]) (9.3.0)\n",
      "Requirement already satisfied: autorom[accept-rom-license]~=0.4.2 in c:\\users\\salil\\pythonp\\rl1\\venv\\lib\\site-packages (from stable-baselines3[extra]) (0.4.2)\n",
      "Requirement already satisfied: ale-py==0.7.4 in c:\\users\\salil\\pythonp\\rl1\\venv\\lib\\site-packages (from stable-baselines3[extra]) (0.7.4)\n",
      "Requirement already satisfied: tensorboard>=2.9.1 in c:\\users\\salil\\pythonp\\rl1\\venv\\lib\\site-packages (from stable-baselines3[extra]) (2.10.1)\n",
      "Requirement already satisfied: rich in c:\\users\\salil\\pythonp\\rl1\\venv\\lib\\site-packages (from stable-baselines3[extra]) (12.6.0)\n",
      "Requirement already satisfied: psutil in c:\\users\\salil\\pythonp\\rl1\\venv\\lib\\site-packages (from stable-baselines3[extra]) (5.9.3)\n",
      "Requirement already satisfied: tqdm in c:\\users\\salil\\pythonp\\rl1\\venv\\lib\\site-packages (from stable-baselines3[extra]) (4.64.1)\n",
      "Requirement already satisfied: opencv-python in c:\\users\\salil\\pythonp\\rl1\\venv\\lib\\site-packages (from stable-baselines3[extra]) (4.6.0.66)\n",
      "Requirement already satisfied: importlib-resources in c:\\users\\salil\\pythonp\\rl1\\venv\\lib\\site-packages (from ale-py==0.7.4->stable-baselines3[extra]) (5.10.0)\n",
      "Requirement already satisfied: click in c:\\users\\salil\\pythonp\\rl1\\venv\\lib\\site-packages (from autorom[accept-rom-license]~=0.4.2->stable-baselines3[extra]) (8.1.3)\n",
      "Requirement already satisfied: requests in c:\\users\\salil\\pythonp\\rl1\\venv\\lib\\site-packages (from autorom[accept-rom-license]~=0.4.2->stable-baselines3[extra]) (2.28.1)\n",
      "Requirement already satisfied: AutoROM.accept-rom-license in c:\\users\\salil\\pythonp\\rl1\\venv\\lib\\site-packages (from autorom[accept-rom-license]~=0.4.2->stable-baselines3[extra]) (0.4.2)\n",
      "Requirement already satisfied: zipp>=0.5 in c:\\users\\salil\\pythonp\\rl1\\venv\\lib\\site-packages (from importlib-metadata~=4.13->stable-baselines3[extra]) (3.10.0)\n",
      "Requirement already satisfied: grpcio>=1.24.3 in c:\\users\\salil\\pythonp\\rl1\\venv\\lib\\site-packages (from tensorboard>=2.9.1->stable-baselines3[extra]) (1.50.0)\n",
      "Requirement already satisfied: google-auth-oauthlib<0.5,>=0.4.1 in c:\\users\\salil\\pythonp\\rl1\\venv\\lib\\site-packages (from tensorboard>=2.9.1->stable-baselines3[extra]) (0.4.6)\n",
      "Requirement already satisfied: absl-py>=0.4 in c:\\users\\salil\\pythonp\\rl1\\venv\\lib\\site-packages (from tensorboard>=2.9.1->stable-baselines3[extra]) (1.3.0)\n",
      "Requirement already satisfied: markdown>=2.6.8 in c:\\users\\salil\\pythonp\\rl1\\venv\\lib\\site-packages (from tensorboard>=2.9.1->stable-baselines3[extra]) (3.4.1)\n",
      "Requirement already satisfied: tensorboard-data-server<0.7.0,>=0.6.0 in c:\\users\\salil\\pythonp\\rl1\\venv\\lib\\site-packages (from tensorboard>=2.9.1->stable-baselines3[extra]) (0.6.1)\n",
      "Requirement already satisfied: protobuf<3.20,>=3.9.2 in c:\\users\\salil\\pythonp\\rl1\\venv\\lib\\site-packages (from tensorboard>=2.9.1->stable-baselines3[extra]) (3.19.6)\n",
      "Requirement already satisfied: tensorboard-plugin-wit>=1.6.0 in c:\\users\\salil\\pythonp\\rl1\\venv\\lib\\site-packages (from tensorboard>=2.9.1->stable-baselines3[extra]) (1.8.1)\n",
      "Requirement already satisfied: werkzeug>=1.0.1 in c:\\users\\salil\\pythonp\\rl1\\venv\\lib\\site-packages (from tensorboard>=2.9.1->stable-baselines3[extra]) (2.2.2)\n",
      "Requirement already satisfied: setuptools>=41.0.0 in c:\\users\\salil\\pythonp\\rl1\\venv\\lib\\site-packages (from tensorboard>=2.9.1->stable-baselines3[extra]) (65.4.1)\n",
      "Requirement already satisfied: wheel>=0.26 in c:\\users\\salil\\pythonp\\rl1\\venv\\lib\\site-packages (from tensorboard>=2.9.1->stable-baselines3[extra]) (0.37.1)\n",
      "Requirement already satisfied: google-auth<3,>=1.6.3 in c:\\users\\salil\\pythonp\\rl1\\venv\\lib\\site-packages (from tensorboard>=2.9.1->stable-baselines3[extra]) (2.14.0)\n",
      "Requirement already satisfied: typing-extensions in c:\\users\\salil\\pythonp\\rl1\\venv\\lib\\site-packages (from torch>=1.11->stable-baselines3[extra]) (4.4.0)\n",
      "Requirement already satisfied: kiwisolver>=1.0.1 in c:\\users\\salil\\pythonp\\rl1\\venv\\lib\\site-packages (from matplotlib->stable-baselines3[extra]) (1.4.4)\n",
      "Requirement already satisfied: cycler>=0.10 in c:\\users\\salil\\pythonp\\rl1\\venv\\lib\\site-packages (from matplotlib->stable-baselines3[extra]) (0.11.0)\n",
      "Requirement already satisfied: pyparsing>=2.2.1 in c:\\users\\salil\\pythonp\\rl1\\venv\\lib\\site-packages (from matplotlib->stable-baselines3[extra]) (3.0.9)\n",
      "Requirement already satisfied: fonttools>=4.22.0 in c:\\users\\salil\\pythonp\\rl1\\venv\\lib\\site-packages (from matplotlib->stable-baselines3[extra]) (4.38.0)\n",
      "Requirement already satisfied: packaging>=20.0 in c:\\users\\salil\\pythonp\\rl1\\venv\\lib\\site-packages (from matplotlib->stable-baselines3[extra]) (21.3)\n",
      "Requirement already satisfied: python-dateutil>=2.7 in c:\\users\\salil\\pythonp\\rl1\\venv\\lib\\site-packages (from matplotlib->stable-baselines3[extra]) (2.8.2)\n",
      "Requirement already satisfied: contourpy>=1.0.1 in c:\\users\\salil\\pythonp\\rl1\\venv\\lib\\site-packages (from matplotlib->stable-baselines3[extra]) (1.0.6)\n",
      "Requirement already satisfied: pytz>=2020.1 in c:\\users\\salil\\pythonp\\rl1\\venv\\lib\\site-packages (from pandas->stable-baselines3[extra]) (2022.6)\n",
      "Requirement already satisfied: pygments<3.0.0,>=2.6.0 in c:\\users\\salil\\pythonp\\rl1\\venv\\lib\\site-packages (from rich->stable-baselines3[extra]) (2.13.0)\n",
      "Requirement already satisfied: commonmark<0.10.0,>=0.9.0 in c:\\users\\salil\\pythonp\\rl1\\venv\\lib\\site-packages (from rich->stable-baselines3[extra]) (0.9.1)\n",
      "Requirement already satisfied: colorama in c:\\users\\salil\\pythonp\\rl1\\venv\\lib\\site-packages (from tqdm->stable-baselines3[extra]) (0.4.6)\n",
      "Requirement already satisfied: six>=1.9.0 in c:\\users\\salil\\pythonp\\rl1\\venv\\lib\\site-packages (from google-auth<3,>=1.6.3->tensorboard>=2.9.1->stable-baselines3[extra]) (1.16.0)\n",
      "Requirement already satisfied: rsa<5,>=3.1.4 in c:\\users\\salil\\pythonp\\rl1\\venv\\lib\\site-packages (from google-auth<3,>=1.6.3->tensorboard>=2.9.1->stable-baselines3[extra]) (4.9)\n",
      "Requirement already satisfied: cachetools<6.0,>=2.0.0 in c:\\users\\salil\\pythonp\\rl1\\venv\\lib\\site-packages (from google-auth<3,>=1.6.3->tensorboard>=2.9.1->stable-baselines3[extra]) (5.2.0)\n",
      "Requirement already satisfied: pyasn1-modules>=0.2.1 in c:\\users\\salil\\pythonp\\rl1\\venv\\lib\\site-packages (from google-auth<3,>=1.6.3->tensorboard>=2.9.1->stable-baselines3[extra]) (0.2.8)\n",
      "Requirement already satisfied: requests-oauthlib>=0.7.0 in c:\\users\\salil\\pythonp\\rl1\\venv\\lib\\site-packages (from google-auth-oauthlib<0.5,>=0.4.1->tensorboard>=2.9.1->stable-baselines3[extra]) (1.3.1)\n",
      "Requirement already satisfied: urllib3<1.27,>=1.21.1 in c:\\users\\salil\\pythonp\\rl1\\venv\\lib\\site-packages (from requests->autorom[accept-rom-license]~=0.4.2->stable-baselines3[extra]) (1.26.12)\n",
      "Requirement already satisfied: charset-normalizer<3,>=2 in c:\\users\\salil\\pythonp\\rl1\\venv\\lib\\site-packages (from requests->autorom[accept-rom-license]~=0.4.2->stable-baselines3[extra]) (2.1.1)\n",
      "Requirement already satisfied: idna<4,>=2.5 in c:\\users\\salil\\pythonp\\rl1\\venv\\lib\\site-packages (from requests->autorom[accept-rom-license]~=0.4.2->stable-baselines3[extra]) (3.4)\n",
      "Requirement already satisfied: certifi>=2017.4.17 in c:\\users\\salil\\pythonp\\rl1\\venv\\lib\\site-packages (from requests->autorom[accept-rom-license]~=0.4.2->stable-baselines3[extra]) (2022.9.24)\n",
      "Requirement already satisfied: MarkupSafe>=2.1.1 in c:\\users\\salil\\pythonp\\rl1\\venv\\lib\\site-packages (from werkzeug>=1.0.1->tensorboard>=2.9.1->stable-baselines3[extra]) (2.1.1)\n",
      "Requirement already satisfied: pyasn1<0.5.0,>=0.4.6 in c:\\users\\salil\\pythonp\\rl1\\venv\\lib\\site-packages (from pyasn1-modules>=0.2.1->google-auth<3,>=1.6.3->tensorboard>=2.9.1->stable-baselines3[extra]) (0.4.8)\n",
      "Requirement already satisfied: oauthlib>=3.0.0 in c:\\users\\salil\\pythonp\\rl1\\venv\\lib\\site-packages (from requests-oauthlib>=0.7.0->google-auth-oauthlib<0.5,>=0.4.1->tensorboard>=2.9.1->stable-baselines3[extra]) (3.2.2)\n"
     ]
    }
   ],
   "source": [
    "!pip install stable-baselines3[extra]"
   ]
  },
  {
   "cell_type": "code",
   "execution_count": 2,
   "id": "a4052ff7",
   "metadata": {},
   "outputs": [],
   "source": [
    "import os\n",
    "import gym\n",
    "from stable_baselines3 import PPO\n",
    "from stable_baselines3.common.vec_env import DummyVecEnv\n",
    "from stable_baselines3.common.evaluation import evaluate_policy\n"
   ]
  },
  {
   "cell_type": "code",
   "execution_count": 3,
   "id": "b9297de5",
   "metadata": {},
   "outputs": [],
   "source": [
    "#Load environment\n",
    "environment_name = 'CartPole-v1'\n",
    "env = gym.make(environment_name)"
   ]
  },
  {
   "cell_type": "code",
   "execution_count": 5,
   "id": "9e401fc5",
   "metadata": {},
   "outputs": [
    {
     "name": "stdout",
     "output_type": "stream",
     "text": [
      "Episode:1 Score:26.0\n",
      "Episode:2 Score:13.0\n",
      "Episode:3 Score:31.0\n",
      "Episode:4 Score:13.0\n",
      "Episode:5 Score:12.0\n"
     ]
    }
   ],
   "source": [
    "episodes = 5\n",
    "for episode in range(1, episodes+1):\n",
    "    state = env.reset() #for every episode we reset the environment\n",
    "    done = False\n",
    "    score = 0\n",
    "    \n",
    "    while not done:\n",
    "        env.render()\n",
    "        action = env.action_space.sample()\n",
    "        n_state, reward, done, info = env.step(action)\n",
    "        score += reward\n",
    "    print('Episode:{} Score:{}'.format(episode, score))\n",
    "env.close()\n",
    "    "
   ]
  },
  {
   "cell_type": "code",
   "execution_count": 6,
   "id": "2436ed73",
   "metadata": {},
   "outputs": [
    {
     "data": {
      "text/plain": [
       "Discrete(2)"
      ]
     },
     "execution_count": 6,
     "metadata": {},
     "output_type": "execute_result"
    }
   ],
   "source": [
    "env.action_space"
   ]
  },
  {
   "cell_type": "code",
   "execution_count": 7,
   "id": "80dba4eb",
   "metadata": {},
   "outputs": [
    {
     "data": {
      "text/plain": [
       "Box([-4.8000002e+00 -3.4028235e+38 -4.1887903e-01 -3.4028235e+38], [4.8000002e+00 3.4028235e+38 4.1887903e-01 3.4028235e+38], (4,), float32)"
      ]
     },
     "execution_count": 7,
     "metadata": {},
     "output_type": "execute_result"
    }
   ],
   "source": [
    "env.observation_space"
   ]
  },
  {
   "cell_type": "code",
   "execution_count": 8,
   "id": "01dacf4f",
   "metadata": {},
   "outputs": [],
   "source": [
    "#Make the directory pehle se hi\n",
    "log_path = os.path.join('Training', 'Logs')"
   ]
  },
  {
   "cell_type": "code",
   "execution_count": 9,
   "id": "bc09bdbb",
   "metadata": {},
   "outputs": [
    {
     "name": "stdout",
     "output_type": "stream",
     "text": [
      "Using cpu device\n"
     ]
    }
   ],
   "source": [
    "env = gym.make(environment_name)\n",
    "env = DummyVecEnv([lambda: env])\n",
    "model = PPO('MlpPolicy', env, verbose=1, tensorboard_log=log_path)"
   ]
  },
  {
   "cell_type": "code",
   "execution_count": 10,
   "id": "a8622d05",
   "metadata": {},
   "outputs": [],
   "source": [
    "PPO??"
   ]
  },
  {
   "cell_type": "code",
   "execution_count": 12,
   "id": "72e77114",
   "metadata": {},
   "outputs": [
    {
     "name": "stdout",
     "output_type": "stream",
     "text": [
      "Logging to Training\\Logs\\PPO_5\n",
      "-----------------------------\n",
      "| time/              |      |\n",
      "|    fps             | 1450 |\n",
      "|    iterations      | 1    |\n",
      "|    time_elapsed    | 1    |\n",
      "|    total_timesteps | 2048 |\n",
      "-----------------------------\n",
      "-----------------------------------------\n",
      "| time/                   |             |\n",
      "|    fps                  | 939         |\n",
      "|    iterations           | 2           |\n",
      "|    time_elapsed         | 4           |\n",
      "|    total_timesteps      | 4096        |\n",
      "| train/                  |             |\n",
      "|    approx_kl            | 0.008000525 |\n",
      "|    clip_fraction        | 0.0938      |\n",
      "|    clip_range           | 0.2         |\n",
      "|    entropy_loss         | -0.687      |\n",
      "|    explained_variance   | -0.00118    |\n",
      "|    learning_rate        | 0.0003      |\n",
      "|    loss                 | 6.41        |\n",
      "|    n_updates            | 10          |\n",
      "|    policy_gradient_loss | -0.0149     |\n",
      "|    value_loss           | 47.4        |\n",
      "-----------------------------------------\n",
      "-----------------------------------------\n",
      "| time/                   |             |\n",
      "|    fps                  | 813         |\n",
      "|    iterations           | 3           |\n",
      "|    time_elapsed         | 7           |\n",
      "|    total_timesteps      | 6144        |\n",
      "| train/                  |             |\n",
      "|    approx_kl            | 0.011747022 |\n",
      "|    clip_fraction        | 0.097       |\n",
      "|    clip_range           | 0.2         |\n",
      "|    entropy_loss         | -0.667      |\n",
      "|    explained_variance   | 0.124       |\n",
      "|    learning_rate        | 0.0003      |\n",
      "|    loss                 | 11.5        |\n",
      "|    n_updates            | 20          |\n",
      "|    policy_gradient_loss | -0.0222     |\n",
      "|    value_loss           | 25.3        |\n",
      "-----------------------------------------\n",
      "---------------------------------------\n",
      "| time/                   |           |\n",
      "|    fps                  | 768       |\n",
      "|    iterations           | 4         |\n",
      "|    time_elapsed         | 10        |\n",
      "|    total_timesteps      | 8192      |\n",
      "| train/                  |           |\n",
      "|    approx_kl            | 0.0095268 |\n",
      "|    clip_fraction        | 0.0863    |\n",
      "|    clip_range           | 0.2       |\n",
      "|    entropy_loss         | -0.635    |\n",
      "|    explained_variance   | 0.259     |\n",
      "|    learning_rate        | 0.0003    |\n",
      "|    loss                 | 17.2      |\n",
      "|    n_updates            | 30        |\n",
      "|    policy_gradient_loss | -0.0185   |\n",
      "|    value_loss           | 45.3      |\n",
      "---------------------------------------\n",
      "------------------------------------------\n",
      "| time/                   |              |\n",
      "|    fps                  | 756          |\n",
      "|    iterations           | 5            |\n",
      "|    time_elapsed         | 13           |\n",
      "|    total_timesteps      | 10240        |\n",
      "| train/                  |              |\n",
      "|    approx_kl            | 0.0077054645 |\n",
      "|    clip_fraction        | 0.0561       |\n",
      "|    clip_range           | 0.2          |\n",
      "|    entropy_loss         | -0.612       |\n",
      "|    explained_variance   | 0.276        |\n",
      "|    learning_rate        | 0.0003       |\n",
      "|    loss                 | 27.8         |\n",
      "|    n_updates            | 40           |\n",
      "|    policy_gradient_loss | -0.0131      |\n",
      "|    value_loss           | 60.2         |\n",
      "------------------------------------------\n",
      "------------------------------------------\n",
      "| time/                   |              |\n",
      "|    fps                  | 741          |\n",
      "|    iterations           | 6            |\n",
      "|    time_elapsed         | 16           |\n",
      "|    total_timesteps      | 12288        |\n",
      "| train/                  |              |\n",
      "|    approx_kl            | 0.0065752314 |\n",
      "|    clip_fraction        | 0.0536       |\n",
      "|    clip_range           | 0.2          |\n",
      "|    entropy_loss         | -0.6         |\n",
      "|    explained_variance   | 0.345        |\n",
      "|    learning_rate        | 0.0003       |\n",
      "|    loss                 | 18.8         |\n",
      "|    n_updates            | 50           |\n",
      "|    policy_gradient_loss | -0.012       |\n",
      "|    value_loss           | 61.3         |\n",
      "------------------------------------------\n",
      "-----------------------------------------\n",
      "| time/                   |             |\n",
      "|    fps                  | 731         |\n",
      "|    iterations           | 7           |\n",
      "|    time_elapsed         | 19          |\n",
      "|    total_timesteps      | 14336       |\n",
      "| train/                  |             |\n",
      "|    approx_kl            | 0.007359745 |\n",
      "|    clip_fraction        | 0.0615      |\n",
      "|    clip_range           | 0.2         |\n",
      "|    entropy_loss         | -0.569      |\n",
      "|    explained_variance   | 0.419       |\n",
      "|    learning_rate        | 0.0003      |\n",
      "|    loss                 | 23.8        |\n",
      "|    n_updates            | 60          |\n",
      "|    policy_gradient_loss | -0.0124     |\n",
      "|    value_loss           | 76.4        |\n",
      "-----------------------------------------\n",
      "------------------------------------------\n",
      "| time/                   |              |\n",
      "|    fps                  | 723          |\n",
      "|    iterations           | 8            |\n",
      "|    time_elapsed         | 22           |\n",
      "|    total_timesteps      | 16384        |\n",
      "| train/                  |              |\n",
      "|    approx_kl            | 0.0064401426 |\n",
      "|    clip_fraction        | 0.083        |\n",
      "|    clip_range           | 0.2          |\n",
      "|    entropy_loss         | -0.567       |\n",
      "|    explained_variance   | 0.72         |\n",
      "|    learning_rate        | 0.0003       |\n",
      "|    loss                 | 12.5         |\n",
      "|    n_updates            | 70           |\n",
      "|    policy_gradient_loss | -0.0106      |\n",
      "|    value_loss           | 43           |\n",
      "------------------------------------------\n",
      "------------------------------------------\n",
      "| time/                   |              |\n",
      "|    fps                  | 719          |\n",
      "|    iterations           | 9            |\n",
      "|    time_elapsed         | 25           |\n",
      "|    total_timesteps      | 18432        |\n",
      "| train/                  |              |\n",
      "|    approx_kl            | 0.0041019195 |\n",
      "|    clip_fraction        | 0.0332       |\n",
      "|    clip_range           | 0.2          |\n",
      "|    entropy_loss         | -0.566       |\n",
      "|    explained_variance   | 0.855        |\n",
      "|    learning_rate        | 0.0003       |\n",
      "|    loss                 | 3.17         |\n",
      "|    n_updates            | 80           |\n",
      "|    policy_gradient_loss | -0.00472     |\n",
      "|    value_loss           | 24.6         |\n",
      "------------------------------------------\n",
      "------------------------------------------\n",
      "| time/                   |              |\n",
      "|    fps                  | 717          |\n",
      "|    iterations           | 10           |\n",
      "|    time_elapsed         | 28           |\n",
      "|    total_timesteps      | 20480        |\n",
      "| train/                  |              |\n",
      "|    approx_kl            | 0.0034483958 |\n",
      "|    clip_fraction        | 0.0197       |\n",
      "|    clip_range           | 0.2          |\n",
      "|    entropy_loss         | -0.56        |\n",
      "|    explained_variance   | 0.831        |\n",
      "|    learning_rate        | 0.0003       |\n",
      "|    loss                 | 7.74         |\n",
      "|    n_updates            | 90           |\n",
      "|    policy_gradient_loss | -0.00386     |\n",
      "|    value_loss           | 31.9         |\n",
      "------------------------------------------\n"
     ]
    },
    {
     "data": {
      "text/plain": [
       "<stable_baselines3.ppo.ppo.PPO at 0x2709ddf1e20>"
      ]
     },
     "execution_count": 12,
     "metadata": {},
     "output_type": "execute_result"
    }
   ],
   "source": [
    "#Train the model\n",
    "model.learn(total_timesteps = 20000)"
   ]
  },
  {
   "cell_type": "code",
   "execution_count": 14,
   "id": "99bed58c",
   "metadata": {},
   "outputs": [],
   "source": [
    "PPO_Path = os.path.join('Training', 'Saved Models', 'PPO_Model_Cartpole')"
   ]
  },
  {
   "cell_type": "code",
   "execution_count": 15,
   "id": "a9d5bca5",
   "metadata": {},
   "outputs": [],
   "source": [
    "model.save(PPO_Path) #to save model "
   ]
  },
  {
   "cell_type": "code",
   "execution_count": 28,
   "id": "80735e33",
   "metadata": {},
   "outputs": [],
   "source": [
    "del model # to delete model"
   ]
  },
  {
   "cell_type": "code",
   "execution_count": 11,
   "id": "d566a70f",
   "metadata": {},
   "outputs": [
    {
     "ename": "NameError",
     "evalue": "name 'PPO_Path' is not defined",
     "output_type": "error",
     "traceback": [
      "\u001b[1;31m---------------------------------------------------------------------------\u001b[0m",
      "\u001b[1;31mNameError\u001b[0m                                 Traceback (most recent call last)",
      "Cell \u001b[1;32mIn [11], line 1\u001b[0m\n\u001b[1;32m----> 1\u001b[0m model \u001b[38;5;241m=\u001b[39m PPO\u001b[38;5;241m.\u001b[39mload(\u001b[43mPPO_Path\u001b[49m, env\u001b[38;5;241m=\u001b[39menv) \u001b[38;5;66;03m#to load the model from the path\u001b[39;00m\n",
      "\u001b[1;31mNameError\u001b[0m: name 'PPO_Path' is not defined"
     ]
    }
   ],
   "source": [
    "model = PPO.load(PPO_Path, env=env) #to load the model from the path"
   ]
  },
  {
   "cell_type": "code",
   "execution_count": 16,
   "id": "a8e05ec2",
   "metadata": {},
   "outputs": [
    {
     "name": "stderr",
     "output_type": "stream",
     "text": [
      "C:\\Users\\salil\\PythonP\\RL1\\venv\\lib\\site-packages\\stable_baselines3\\common\\evaluation.py:65: UserWarning: Evaluation environment is not wrapped with a ``Monitor`` wrapper. This may result in reporting modified episode lengths and rewards, if other wrappers happen to modify these. Consider wrapping environment first with ``Monitor`` wrapper.\n",
      "  warnings.warn(\n"
     ]
    },
    {
     "data": {
      "text/plain": [
       "(495.9, 12.299999999999999)"
      ]
     },
     "execution_count": 16,
     "metadata": {},
     "output_type": "execute_result"
    }
   ],
   "source": [
    "evaluate_policy(model, env, n_eval_episodes=10, render=True)"
   ]
  },
  {
   "cell_type": "code",
   "execution_count": 17,
   "id": "5e6f0c2b",
   "metadata": {},
   "outputs": [],
   "source": [
    "env.close() #close the environment"
   ]
  },
  {
   "cell_type": "code",
   "execution_count": 18,
   "id": "ab3ddd2b",
   "metadata": {},
   "outputs": [
    {
     "name": "stdout",
     "output_type": "stream",
     "text": [
      "Episode:1 Score:[164.]\n",
      "Episode:2 Score:[462.]\n",
      "Episode:3 Score:[500.]\n",
      "Episode:4 Score:[355.]\n",
      "Episode:5 Score:[500.]\n"
     ]
    }
   ],
   "source": [
    "#Test Model\n",
    "\n",
    "episodes = 5\n",
    "for episode in range(1, episodes+1):\n",
    "    obs = env.reset() #for every episode we reset the environment\n",
    "    done = False\n",
    "    score = 0\n",
    "    \n",
    "    while not done:\n",
    "        env.render()\n",
    "        action, _ = model.predict(obs) #Now using the moddel here\n",
    "        obs, reward, done, info = env.step(action)\n",
    "        score += reward\n",
    "    print('Episode:{} Score:{}'.format(episode, score))\n",
    "# env.close()"
   ]
  },
  {
   "cell_type": "code",
   "execution_count": 20,
   "id": "ac949073",
   "metadata": {},
   "outputs": [],
   "source": [
    "env.close()"
   ]
  },
  {
   "cell_type": "code",
   "execution_count": null,
   "id": "c2955592",
   "metadata": {},
   "outputs": [],
   "source": []
  }
 ],
 "metadata": {
  "kernelspec": {
   "display_name": "venv",
   "language": "python",
   "name": "venv"
  },
  "language_info": {
   "codemirror_mode": {
    "name": "ipython",
    "version": 3
   },
   "file_extension": ".py",
   "mimetype": "text/x-python",
   "name": "python",
   "nbconvert_exporter": "python",
   "pygments_lexer": "ipython3",
   "version": "3.8.8"
  }
 },
 "nbformat": 4,
 "nbformat_minor": 5
}
