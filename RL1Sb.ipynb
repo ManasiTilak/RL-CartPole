{
 "cells": [
  {
   "cell_type": "code",
   "execution_count": 1,
   "id": "3b0a07a9",
   "metadata": {},
   "outputs": [
    {
     "name": "stdout",
     "output_type": "stream",
     "text": [
      "Requirement already satisfied: stable-baselines3[extra] in c:\\users\\salil\\pythonp\\rl1\\venv\\lib\\site-packages (1.6.2)\n",
      "Requirement already satisfied: torch>=1.11 in c:\\users\\salil\\pythonp\\rl1\\venv\\lib\\site-packages (from stable-baselines3[extra]) (1.13.0)\n",
      "Requirement already satisfied: numpy in c:\\users\\salil\\pythonp\\rl1\\venv\\lib\\site-packages (from stable-baselines3[extra]) (1.23.4)\n",
      "Requirement already satisfied: cloudpickle in c:\\users\\salil\\pythonp\\rl1\\venv\\lib\\site-packages (from stable-baselines3[extra]) (2.2.0)\n",
      "Requirement already satisfied: pandas in c:\\users\\salil\\pythonp\\rl1\\venv\\lib\\site-packages (from stable-baselines3[extra]) (1.5.1)\n",
      "Requirement already satisfied: gym==0.21 in c:\\users\\salil\\pythonp\\rl1\\venv\\lib\\site-packages (from stable-baselines3[extra]) (0.21.0)\n",
      "Requirement already satisfied: matplotlib in c:\\users\\salil\\pythonp\\rl1\\venv\\lib\\site-packages (from stable-baselines3[extra]) (3.6.2)\n",
      "Requirement already satisfied: importlib-metadata~=4.13 in c:\\users\\salil\\pythonp\\rl1\\venv\\lib\\site-packages (from stable-baselines3[extra]) (4.13.0)\n",
      "Requirement already satisfied: pillow in c:\\users\\salil\\pythonp\\rl1\\venv\\lib\\site-packages (from stable-baselines3[extra]) (9.3.0)\n",
      "Requirement already satisfied: autorom[accept-rom-license]~=0.4.2 in c:\\users\\salil\\pythonp\\rl1\\venv\\lib\\site-packages (from stable-baselines3[extra]) (0.4.2)\n",
      "Requirement already satisfied: ale-py==0.7.4 in c:\\users\\salil\\pythonp\\rl1\\venv\\lib\\site-packages (from stable-baselines3[extra]) (0.7.4)\n",
      "Requirement already satisfied: tensorboard>=2.9.1 in c:\\users\\salil\\pythonp\\rl1\\venv\\lib\\site-packages (from stable-baselines3[extra]) (2.10.1)\n",
      "Requirement already satisfied: rich in c:\\users\\salil\\pythonp\\rl1\\venv\\lib\\site-packages (from stable-baselines3[extra]) (12.6.0)\n",
      "Requirement already satisfied: psutil in c:\\users\\salil\\pythonp\\rl1\\venv\\lib\\site-packages (from stable-baselines3[extra]) (5.9.3)\n",
      "Requirement already satisfied: tqdm in c:\\users\\salil\\pythonp\\rl1\\venv\\lib\\site-packages (from stable-baselines3[extra]) (4.64.1)\n",
      "Requirement already satisfied: opencv-python in c:\\users\\salil\\pythonp\\rl1\\venv\\lib\\site-packages (from stable-baselines3[extra]) (4.6.0.66)\n",
      "Requirement already satisfied: importlib-resources in c:\\users\\salil\\pythonp\\rl1\\venv\\lib\\site-packages (from ale-py==0.7.4->stable-baselines3[extra]) (5.10.0)\n",
      "Requirement already satisfied: click in c:\\users\\salil\\pythonp\\rl1\\venv\\lib\\site-packages (from autorom[accept-rom-license]~=0.4.2->stable-baselines3[extra]) (8.1.3)\n",
      "Requirement already satisfied: requests in c:\\users\\salil\\pythonp\\rl1\\venv\\lib\\site-packages (from autorom[accept-rom-license]~=0.4.2->stable-baselines3[extra]) (2.28.1)\n",
      "Requirement already satisfied: AutoROM.accept-rom-license in c:\\users\\salil\\pythonp\\rl1\\venv\\lib\\site-packages (from autorom[accept-rom-license]~=0.4.2->stable-baselines3[extra]) (0.4.2)\n",
      "Requirement already satisfied: zipp>=0.5 in c:\\users\\salil\\pythonp\\rl1\\venv\\lib\\site-packages (from importlib-metadata~=4.13->stable-baselines3[extra]) (3.10.0)\n",
      "Requirement already satisfied: grpcio>=1.24.3 in c:\\users\\salil\\pythonp\\rl1\\venv\\lib\\site-packages (from tensorboard>=2.9.1->stable-baselines3[extra]) (1.50.0)\n",
      "Requirement already satisfied: google-auth-oauthlib<0.5,>=0.4.1 in c:\\users\\salil\\pythonp\\rl1\\venv\\lib\\site-packages (from tensorboard>=2.9.1->stable-baselines3[extra]) (0.4.6)\n",
      "Requirement already satisfied: absl-py>=0.4 in c:\\users\\salil\\pythonp\\rl1\\venv\\lib\\site-packages (from tensorboard>=2.9.1->stable-baselines3[extra]) (1.3.0)\n",
      "Requirement already satisfied: markdown>=2.6.8 in c:\\users\\salil\\pythonp\\rl1\\venv\\lib\\site-packages (from tensorboard>=2.9.1->stable-baselines3[extra]) (3.4.1)\n",
      "Requirement already satisfied: tensorboard-data-server<0.7.0,>=0.6.0 in c:\\users\\salil\\pythonp\\rl1\\venv\\lib\\site-packages (from tensorboard>=2.9.1->stable-baselines3[extra]) (0.6.1)\n",
      "Requirement already satisfied: protobuf<3.20,>=3.9.2 in c:\\users\\salil\\pythonp\\rl1\\venv\\lib\\site-packages (from tensorboard>=2.9.1->stable-baselines3[extra]) (3.19.6)\n",
      "Requirement already satisfied: tensorboard-plugin-wit>=1.6.0 in c:\\users\\salil\\pythonp\\rl1\\venv\\lib\\site-packages (from tensorboard>=2.9.1->stable-baselines3[extra]) (1.8.1)\n",
      "Requirement already satisfied: werkzeug>=1.0.1 in c:\\users\\salil\\pythonp\\rl1\\venv\\lib\\site-packages (from tensorboard>=2.9.1->stable-baselines3[extra]) (2.2.2)\n",
      "Requirement already satisfied: setuptools>=41.0.0 in c:\\users\\salil\\pythonp\\rl1\\venv\\lib\\site-packages (from tensorboard>=2.9.1->stable-baselines3[extra]) (65.4.1)\n",
      "Requirement already satisfied: wheel>=0.26 in c:\\users\\salil\\pythonp\\rl1\\venv\\lib\\site-packages (from tensorboard>=2.9.1->stable-baselines3[extra]) (0.37.1)\n",
      "Requirement already satisfied: google-auth<3,>=1.6.3 in c:\\users\\salil\\pythonp\\rl1\\venv\\lib\\site-packages (from tensorboard>=2.9.1->stable-baselines3[extra]) (2.14.0)\n",
      "Requirement already satisfied: typing-extensions in c:\\users\\salil\\pythonp\\rl1\\venv\\lib\\site-packages (from torch>=1.11->stable-baselines3[extra]) (4.4.0)\n",
      "Requirement already satisfied: kiwisolver>=1.0.1 in c:\\users\\salil\\pythonp\\rl1\\venv\\lib\\site-packages (from matplotlib->stable-baselines3[extra]) (1.4.4)\n",
      "Requirement already satisfied: cycler>=0.10 in c:\\users\\salil\\pythonp\\rl1\\venv\\lib\\site-packages (from matplotlib->stable-baselines3[extra]) (0.11.0)\n",
      "Requirement already satisfied: pyparsing>=2.2.1 in c:\\users\\salil\\pythonp\\rl1\\venv\\lib\\site-packages (from matplotlib->stable-baselines3[extra]) (3.0.9)\n",
      "Requirement already satisfied: fonttools>=4.22.0 in c:\\users\\salil\\pythonp\\rl1\\venv\\lib\\site-packages (from matplotlib->stable-baselines3[extra]) (4.38.0)\n",
      "Requirement already satisfied: packaging>=20.0 in c:\\users\\salil\\pythonp\\rl1\\venv\\lib\\site-packages (from matplotlib->stable-baselines3[extra]) (21.3)\n",
      "Requirement already satisfied: python-dateutil>=2.7 in c:\\users\\salil\\pythonp\\rl1\\venv\\lib\\site-packages (from matplotlib->stable-baselines3[extra]) (2.8.2)\n",
      "Requirement already satisfied: contourpy>=1.0.1 in c:\\users\\salil\\pythonp\\rl1\\venv\\lib\\site-packages (from matplotlib->stable-baselines3[extra]) (1.0.6)\n",
      "Requirement already satisfied: pytz>=2020.1 in c:\\users\\salil\\pythonp\\rl1\\venv\\lib\\site-packages (from pandas->stable-baselines3[extra]) (2022.6)\n",
      "Requirement already satisfied: pygments<3.0.0,>=2.6.0 in c:\\users\\salil\\pythonp\\rl1\\venv\\lib\\site-packages (from rich->stable-baselines3[extra]) (2.13.0)\n",
      "Requirement already satisfied: commonmark<0.10.0,>=0.9.0 in c:\\users\\salil\\pythonp\\rl1\\venv\\lib\\site-packages (from rich->stable-baselines3[extra]) (0.9.1)\n",
      "Requirement already satisfied: colorama in c:\\users\\salil\\pythonp\\rl1\\venv\\lib\\site-packages (from tqdm->stable-baselines3[extra]) (0.4.6)\n",
      "Requirement already satisfied: six>=1.9.0 in c:\\users\\salil\\pythonp\\rl1\\venv\\lib\\site-packages (from google-auth<3,>=1.6.3->tensorboard>=2.9.1->stable-baselines3[extra]) (1.16.0)\n",
      "Requirement already satisfied: rsa<5,>=3.1.4 in c:\\users\\salil\\pythonp\\rl1\\venv\\lib\\site-packages (from google-auth<3,>=1.6.3->tensorboard>=2.9.1->stable-baselines3[extra]) (4.9)\n",
      "Requirement already satisfied: cachetools<6.0,>=2.0.0 in c:\\users\\salil\\pythonp\\rl1\\venv\\lib\\site-packages (from google-auth<3,>=1.6.3->tensorboard>=2.9.1->stable-baselines3[extra]) (5.2.0)\n",
      "Requirement already satisfied: pyasn1-modules>=0.2.1 in c:\\users\\salil\\pythonp\\rl1\\venv\\lib\\site-packages (from google-auth<3,>=1.6.3->tensorboard>=2.9.1->stable-baselines3[extra]) (0.2.8)\n",
      "Requirement already satisfied: requests-oauthlib>=0.7.0 in c:\\users\\salil\\pythonp\\rl1\\venv\\lib\\site-packages (from google-auth-oauthlib<0.5,>=0.4.1->tensorboard>=2.9.1->stable-baselines3[extra]) (1.3.1)\n",
      "Requirement already satisfied: urllib3<1.27,>=1.21.1 in c:\\users\\salil\\pythonp\\rl1\\venv\\lib\\site-packages (from requests->autorom[accept-rom-license]~=0.4.2->stable-baselines3[extra]) (1.26.12)\n",
      "Requirement already satisfied: charset-normalizer<3,>=2 in c:\\users\\salil\\pythonp\\rl1\\venv\\lib\\site-packages (from requests->autorom[accept-rom-license]~=0.4.2->stable-baselines3[extra]) (2.1.1)\n",
      "Requirement already satisfied: idna<4,>=2.5 in c:\\users\\salil\\pythonp\\rl1\\venv\\lib\\site-packages (from requests->autorom[accept-rom-license]~=0.4.2->stable-baselines3[extra]) (3.4)\n",
      "Requirement already satisfied: certifi>=2017.4.17 in c:\\users\\salil\\pythonp\\rl1\\venv\\lib\\site-packages (from requests->autorom[accept-rom-license]~=0.4.2->stable-baselines3[extra]) (2022.9.24)\n",
      "Requirement already satisfied: MarkupSafe>=2.1.1 in c:\\users\\salil\\pythonp\\rl1\\venv\\lib\\site-packages (from werkzeug>=1.0.1->tensorboard>=2.9.1->stable-baselines3[extra]) (2.1.1)\n",
      "Requirement already satisfied: pyasn1<0.5.0,>=0.4.6 in c:\\users\\salil\\pythonp\\rl1\\venv\\lib\\site-packages (from pyasn1-modules>=0.2.1->google-auth<3,>=1.6.3->tensorboard>=2.9.1->stable-baselines3[extra]) (0.4.8)\n",
      "Requirement already satisfied: oauthlib>=3.0.0 in c:\\users\\salil\\pythonp\\rl1\\venv\\lib\\site-packages (from requests-oauthlib>=0.7.0->google-auth-oauthlib<0.5,>=0.4.1->tensorboard>=2.9.1->stable-baselines3[extra]) (3.2.2)\n"
     ]
    }
   ],
   "source": [
    "!pip install stable-baselines3[extra]"
   ]
  },
  {
   "cell_type": "code",
   "execution_count": 4,
   "id": "a4052ff7",
   "metadata": {},
   "outputs": [],
   "source": [
    "import os\n",
    "import gym\n",
    "from stable_baselines3 import PPO\n",
    "from stable_baselines3.common.vec_env import DummyVecEnv\n",
    "from stable_baselines3.common.evaluation import evaluate_policy\n"
   ]
  },
  {
   "cell_type": "code",
   "execution_count": 5,
   "id": "b9297de5",
   "metadata": {},
   "outputs": [],
   "source": [
    "#Load environment\n",
    "environment_name = 'CartPole-v1'\n",
    "env = gym.make(environment_name)"
   ]
  },
  {
   "cell_type": "code",
   "execution_count": 6,
   "id": "9e401fc5",
   "metadata": {},
   "outputs": [
    {
     "name": "stdout",
     "output_type": "stream",
     "text": [
      "Episode:1 Score:39.0\n",
      "Episode:2 Score:14.0\n",
      "Episode:3 Score:14.0\n",
      "Episode:4 Score:39.0\n",
      "Episode:5 Score:36.0\n"
     ]
    }
   ],
   "source": [
    "episodes = 5\n",
    "for episode in range(1, episodes+1):\n",
    "    state = env.reset() #for every episode we reset the environment\n",
    "    done = False\n",
    "    score = 0\n",
    "    \n",
    "    while not done:\n",
    "        env.render()\n",
    "        action = env.action_space.sample()\n",
    "        n_state, reward, done, info = env.step(action)\n",
    "        score += reward\n",
    "    print('Episode:{} Score:{}'.format(episode, score))\n",
    "env.close()\n",
    "    "
   ]
  },
  {
   "cell_type": "code",
   "execution_count": 8,
   "id": "2436ed73",
   "metadata": {},
   "outputs": [
    {
     "data": {
      "text/plain": [
       "Discrete(2)"
      ]
     },
     "execution_count": 8,
     "metadata": {},
     "output_type": "execute_result"
    }
   ],
   "source": [
    "env.action_space"
   ]
  },
  {
   "cell_type": "code",
   "execution_count": 9,
   "id": "80dba4eb",
   "metadata": {},
   "outputs": [
    {
     "data": {
      "text/plain": [
       "Box([-4.8000002e+00 -3.4028235e+38 -4.1887903e-01 -3.4028235e+38], [4.8000002e+00 3.4028235e+38 4.1887903e-01 3.4028235e+38], (4,), float32)"
      ]
     },
     "execution_count": 9,
     "metadata": {},
     "output_type": "execute_result"
    }
   ],
   "source": [
    "env.observation_space"
   ]
  },
  {
   "cell_type": "code",
   "execution_count": null,
   "id": "01dacf4f",
   "metadata": {},
   "outputs": [],
   "source": []
  }
 ],
 "metadata": {
  "kernelspec": {
   "display_name": "venv",
   "language": "python",
   "name": "venv"
  },
  "language_info": {
   "codemirror_mode": {
    "name": "ipython",
    "version": 3
   },
   "file_extension": ".py",
   "mimetype": "text/x-python",
   "name": "python",
   "nbconvert_exporter": "python",
   "pygments_lexer": "ipython3",
   "version": "3.8.8"
  }
 },
 "nbformat": 4,
 "nbformat_minor": 5
}
